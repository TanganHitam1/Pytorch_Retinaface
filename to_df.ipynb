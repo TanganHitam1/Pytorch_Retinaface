{
 "cells": [
  {
   "cell_type": "code",
   "execution_count": 2,
   "metadata": {},
   "outputs": [
    {
     "name": "stdout",
     "output_type": "stream",
     "text": [
      "mobilenet0.25_epoch10_b4_lr0.0001_optAdam\n",
      "mobilenet0.25_epoch10_b4_lr0.001_optAdam\n",
      "mobilenet0.25_epoch10_b8_lr0.0001_optAdam\n",
      "mobilenet0.25_epoch10_b8_lr0.001_optAdam\n",
      "Resnet50_epoch10_b4_lr0.0001_optAdam\n",
      "Resnet50_epoch10_b4_lr0.001_optAdam\n",
      "Resnet50_epoch10_b8_lr0.0001_optAdam\n",
      "Resnet50_epoch10_b8_lr0.001_optAdam\n"
     ]
    }
   ],
   "source": [
    "import os\n",
    "import pandas as pd\n",
    "\n",
    "graph_path = \"./graph.csv\"\n",
    "\n",
    "data_Acc = {}\n",
    "data_Loss = {}\n",
    "\n",
    "curve_path = os.path.join(\".\", \"curve\")\n",
    "all_curve_path = []\n",
    "for dirs in os.listdir(curve_path):\n",
    "    if \"Saved\" in dirs or \".xlsx\" in dirs :\n",
    "        continue\n",
    "    if not (\"0.001\" in dirs or \"0.0001\" in dirs):\n",
    "        continue\n",
    "    all_curve_path.append(dirs)\n",
    "    print(dirs)"
   ]
  },
  {
   "cell_type": "code",
   "execution_count": 3,
   "metadata": {},
   "outputs": [],
   "source": [
    "data_Acc['Epoch'] = [1, 2, 3, 4, 5, 6, 7, 8, 9, 10]\n",
    "data_Loss['Epoch'] = [1, 2, 3, 4, 5, 6, 7, 8, 9, 10]"
   ]
  },
  {
   "cell_type": "code",
   "execution_count": 4,
   "metadata": {},
   "outputs": [
    {
     "data": {
      "text/plain": [
       "['mobilenet0.25_epoch10_b4_lr0.0001_optAdam',\n",
       " 'mobilenet0.25_epoch10_b4_lr0.001_optAdam',\n",
       " 'mobilenet0.25_epoch10_b8_lr0.0001_optAdam',\n",
       " 'mobilenet0.25_epoch10_b8_lr0.001_optAdam',\n",
       " 'Resnet50_epoch10_b4_lr0.0001_optAdam',\n",
       " 'Resnet50_epoch10_b4_lr0.001_optAdam',\n",
       " 'Resnet50_epoch10_b8_lr0.0001_optAdam',\n",
       " 'Resnet50_epoch10_b8_lr0.001_optAdam']"
      ]
     },
     "execution_count": 4,
     "metadata": {},
     "output_type": "execute_result"
    }
   ],
   "source": [
    "all_curve_path"
   ]
  },
  {
   "cell_type": "code",
   "execution_count": 5,
   "metadata": {},
   "outputs": [],
   "source": [
    "for path in all_curve_path:\n",
    "    cur_path = os.path.join(curve_path, path)\n",
    "    for files in os.listdir(cur_path):\n",
    "        if not files.endswith(\".txt\"):\n",
    "            continue\n",
    "        if not (\"Train Accuracy\" in files or \"Validation Accuracy\" in files or \"Train Loss\" in files or \"Validation Loss\" in files):\n",
    "            continue\n",
    "\n",
    "        with open(os.path.join(cur_path, files), 'r') as file:\n",
    "            lines = file.readlines()\n",
    "        lines = [line.strip() for line in lines]\n",
    "\n",
    "        files = path + \" \"+ files.split(\"_\")[0]\n",
    "\n",
    "        if \"Train Accuracy\" in files or \"Validation Accuracy\" in files:\n",
    "            data_Acc[files] = lines\n",
    "        elif \"Train Loss\" in files or \"Validation Loss\" in files:\n",
    "            data_Loss[files] = lines\n",
    "        # with open(os.path.join(cur_path, files), 'r') as file:\n",
    "        #     lines = file.readlines()\n",
    "        # lines = [line.strip() for line in lines]\n",
    "        # files = path + \" \"+ files.split(\"_\")[0]\n",
    "        # # print(files.split(\".\")[0])\n",
    "        # # print(lines)\n",
    "        # data[files] = lines"
   ]
  },
  {
   "cell_type": "code",
   "execution_count": 6,
   "metadata": {},
   "outputs": [],
   "source": [
    "df_acc = pd.DataFrame(data_Acc)\n",
    "df_acc.replace([\"inf\", \"inf\"], \" \", inplace=True)\n",
    "df_loss = pd.DataFrame(data_Loss)\n",
    "df_loss.replace([\"inf\", \"inf\"], \" \", inplace=True)\n"
   ]
  },
  {
   "cell_type": "code",
   "execution_count": 7,
   "metadata": {},
   "outputs": [],
   "source": [
    "df_acc.to_excel(f\"{curve_path}/Accuracy Batch Size.xlsx\", index=False)\n",
    "df_loss.to_excel(f\"{curve_path}/Loss Batch Size.xlsx\", index=False)"
   ]
  }
 ],
 "metadata": {
  "kernelspec": {
   "display_name": "retina-face",
   "language": "python",
   "name": "python3"
  },
  "language_info": {
   "codemirror_mode": {
    "name": "ipython",
    "version": 3
   },
   "file_extension": ".py",
   "mimetype": "text/x-python",
   "name": "python",
   "nbconvert_exporter": "python",
   "pygments_lexer": "ipython3",
   "version": "3.9.19"
  }
 },
 "nbformat": 4,
 "nbformat_minor": 2
}
